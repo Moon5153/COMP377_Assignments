{
 "cells": [
  {
   "cell_type": "code",
   "execution_count": 33,
   "id": "89b2ae4d",
   "metadata": {},
   "outputs": [],
   "source": [
    "#import libraries\n",
    "import numpy as np\n",
    "import pandas as pd\n",
    "import matplotlib.pyplot as plt\n",
    "from numpy import array"
   ]
  },
  {
   "cell_type": "code",
   "execution_count": 34,
   "id": "ff87c630",
   "metadata": {},
   "outputs": [
    {
     "data": {
      "text/html": [
       "<div>\n",
       "<style scoped>\n",
       "    .dataframe tbody tr th:only-of-type {\n",
       "        vertical-align: middle;\n",
       "    }\n",
       "\n",
       "    .dataframe tbody tr th {\n",
       "        vertical-align: top;\n",
       "    }\n",
       "\n",
       "    .dataframe thead th {\n",
       "        text-align: right;\n",
       "    }\n",
       "</style>\n",
       "<table border=\"1\" class=\"dataframe\">\n",
       "  <thead>\n",
       "    <tr style=\"text-align: right;\">\n",
       "      <th></th>\n",
       "      <th>Date</th>\n",
       "      <th>Open</th>\n",
       "      <th>High</th>\n",
       "      <th>Low</th>\n",
       "      <th>Close</th>\n",
       "      <th>Adj Close</th>\n",
       "      <th>Volume</th>\n",
       "    </tr>\n",
       "  </thead>\n",
       "  <tbody>\n",
       "    <tr>\n",
       "      <th>0</th>\n",
       "      <td>2021-12-06</td>\n",
       "      <td>169.649994</td>\n",
       "      <td>173.695496</td>\n",
       "      <td>166.934494</td>\n",
       "      <td>171.368500</td>\n",
       "      <td>171.368500</td>\n",
       "      <td>68860000</td>\n",
       "    </tr>\n",
       "    <tr>\n",
       "      <th>1</th>\n",
       "      <td>2021-12-07</td>\n",
       "      <td>174.600006</td>\n",
       "      <td>177.499496</td>\n",
       "      <td>173.334503</td>\n",
       "      <td>176.164505</td>\n",
       "      <td>176.164505</td>\n",
       "      <td>66410000</td>\n",
       "    </tr>\n",
       "    <tr>\n",
       "      <th>2</th>\n",
       "      <td>2021-12-08</td>\n",
       "      <td>176.150497</td>\n",
       "      <td>177.179993</td>\n",
       "      <td>174.750504</td>\n",
       "      <td>176.158005</td>\n",
       "      <td>176.158005</td>\n",
       "      <td>45254000</td>\n",
       "    </tr>\n",
       "    <tr>\n",
       "      <th>3</th>\n",
       "      <td>2021-12-09</td>\n",
       "      <td>175.750000</td>\n",
       "      <td>176.969498</td>\n",
       "      <td>174.139496</td>\n",
       "      <td>174.171005</td>\n",
       "      <td>174.171005</td>\n",
       "      <td>46062000</td>\n",
       "    </tr>\n",
       "    <tr>\n",
       "      <th>4</th>\n",
       "      <td>2021-12-10</td>\n",
       "      <td>175.417007</td>\n",
       "      <td>175.927002</td>\n",
       "      <td>170.500000</td>\n",
       "      <td>172.212006</td>\n",
       "      <td>172.212006</td>\n",
       "      <td>60690000</td>\n",
       "    </tr>\n",
       "    <tr>\n",
       "      <th>...</th>\n",
       "      <td>...</td>\n",
       "      <td>...</td>\n",
       "      <td>...</td>\n",
       "      <td>...</td>\n",
       "      <td>...</td>\n",
       "      <td>...</td>\n",
       "      <td>...</td>\n",
       "    </tr>\n",
       "    <tr>\n",
       "      <th>248</th>\n",
       "      <td>2022-11-30</td>\n",
       "      <td>92.470001</td>\n",
       "      <td>96.540001</td>\n",
       "      <td>91.529999</td>\n",
       "      <td>96.540001</td>\n",
       "      <td>96.540001</td>\n",
       "      <td>102628200</td>\n",
       "    </tr>\n",
       "    <tr>\n",
       "      <th>249</th>\n",
       "      <td>2022-12-01</td>\n",
       "      <td>96.989998</td>\n",
       "      <td>97.230003</td>\n",
       "      <td>94.919998</td>\n",
       "      <td>95.500000</td>\n",
       "      <td>95.500000</td>\n",
       "      <td>68488000</td>\n",
       "    </tr>\n",
       "    <tr>\n",
       "      <th>250</th>\n",
       "      <td>2022-12-02</td>\n",
       "      <td>94.480003</td>\n",
       "      <td>95.360001</td>\n",
       "      <td>93.779999</td>\n",
       "      <td>94.129997</td>\n",
       "      <td>94.129997</td>\n",
       "      <td>72427000</td>\n",
       "    </tr>\n",
       "    <tr>\n",
       "      <th>251</th>\n",
       "      <td>2022-12-05</td>\n",
       "      <td>93.050003</td>\n",
       "      <td>94.059998</td>\n",
       "      <td>90.820000</td>\n",
       "      <td>91.010002</td>\n",
       "      <td>91.010002</td>\n",
       "      <td>71535500</td>\n",
       "    </tr>\n",
       "    <tr>\n",
       "      <th>252</th>\n",
       "      <td>2022-12-06</td>\n",
       "      <td>90.500000</td>\n",
       "      <td>91.040001</td>\n",
       "      <td>87.940002</td>\n",
       "      <td>88.250000</td>\n",
       "      <td>88.250000</td>\n",
       "      <td>75265777</td>\n",
       "    </tr>\n",
       "  </tbody>\n",
       "</table>\n",
       "<p>253 rows × 7 columns</p>\n",
       "</div>"
      ],
      "text/plain": [
       "           Date        Open        High         Low       Close   Adj Close  \\\n",
       "0    2021-12-06  169.649994  173.695496  166.934494  171.368500  171.368500   \n",
       "1    2021-12-07  174.600006  177.499496  173.334503  176.164505  176.164505   \n",
       "2    2021-12-08  176.150497  177.179993  174.750504  176.158005  176.158005   \n",
       "3    2021-12-09  175.750000  176.969498  174.139496  174.171005  174.171005   \n",
       "4    2021-12-10  175.417007  175.927002  170.500000  172.212006  172.212006   \n",
       "..          ...         ...         ...         ...         ...         ...   \n",
       "248  2022-11-30   92.470001   96.540001   91.529999   96.540001   96.540001   \n",
       "249  2022-12-01   96.989998   97.230003   94.919998   95.500000   95.500000   \n",
       "250  2022-12-02   94.480003   95.360001   93.779999   94.129997   94.129997   \n",
       "251  2022-12-05   93.050003   94.059998   90.820000   91.010002   91.010002   \n",
       "252  2022-12-06   90.500000   91.040001   87.940002   88.250000   88.250000   \n",
       "\n",
       "        Volume  \n",
       "0     68860000  \n",
       "1     66410000  \n",
       "2     45254000  \n",
       "3     46062000  \n",
       "4     60690000  \n",
       "..         ...  \n",
       "248  102628200  \n",
       "249   68488000  \n",
       "250   72427000  \n",
       "251   71535500  \n",
       "252   75265777  \n",
       "\n",
       "[253 rows x 7 columns]"
      ]
     },
     "execution_count": 34,
     "metadata": {},
     "output_type": "execute_result"
    }
   ],
   "source": [
    "data1 = pd.read_csv('AMZN.csv')\n",
    "data1"
   ]
  },
  {
   "cell_type": "code",
   "execution_count": 35,
   "id": "dab96e2b",
   "metadata": {},
   "outputs": [
    {
     "data": {
      "text/html": [
       "<div>\n",
       "<style scoped>\n",
       "    .dataframe tbody tr th:only-of-type {\n",
       "        vertical-align: middle;\n",
       "    }\n",
       "\n",
       "    .dataframe tbody tr th {\n",
       "        vertical-align: top;\n",
       "    }\n",
       "\n",
       "    .dataframe thead th {\n",
       "        text-align: right;\n",
       "    }\n",
       "</style>\n",
       "<table border=\"1\" class=\"dataframe\">\n",
       "  <thead>\n",
       "    <tr style=\"text-align: right;\">\n",
       "      <th></th>\n",
       "      <th>Date</th>\n",
       "      <th>Open</th>\n",
       "      <th>High</th>\n",
       "      <th>Low</th>\n",
       "      <th>Close</th>\n",
       "      <th>Adj Close</th>\n",
       "      <th>Volume</th>\n",
       "    </tr>\n",
       "  </thead>\n",
       "  <tbody>\n",
       "    <tr>\n",
       "      <th>0</th>\n",
       "      <td>2021-12-06</td>\n",
       "      <td>169.649994</td>\n",
       "      <td>173.695496</td>\n",
       "      <td>166.934494</td>\n",
       "      <td>171.368500</td>\n",
       "      <td>171.368500</td>\n",
       "      <td>68860000</td>\n",
       "    </tr>\n",
       "    <tr>\n",
       "      <th>1</th>\n",
       "      <td>2021-12-07</td>\n",
       "      <td>174.600006</td>\n",
       "      <td>177.499496</td>\n",
       "      <td>173.334503</td>\n",
       "      <td>176.164505</td>\n",
       "      <td>176.164505</td>\n",
       "      <td>66410000</td>\n",
       "    </tr>\n",
       "    <tr>\n",
       "      <th>2</th>\n",
       "      <td>2021-12-08</td>\n",
       "      <td>176.150497</td>\n",
       "      <td>177.179993</td>\n",
       "      <td>174.750504</td>\n",
       "      <td>176.158005</td>\n",
       "      <td>176.158005</td>\n",
       "      <td>45254000</td>\n",
       "    </tr>\n",
       "    <tr>\n",
       "      <th>3</th>\n",
       "      <td>2021-12-09</td>\n",
       "      <td>175.750000</td>\n",
       "      <td>176.969498</td>\n",
       "      <td>174.139496</td>\n",
       "      <td>174.171005</td>\n",
       "      <td>174.171005</td>\n",
       "      <td>46062000</td>\n",
       "    </tr>\n",
       "    <tr>\n",
       "      <th>4</th>\n",
       "      <td>2021-12-10</td>\n",
       "      <td>175.417007</td>\n",
       "      <td>175.927002</td>\n",
       "      <td>170.500000</td>\n",
       "      <td>172.212006</td>\n",
       "      <td>172.212006</td>\n",
       "      <td>60690000</td>\n",
       "    </tr>\n",
       "    <tr>\n",
       "      <th>5</th>\n",
       "      <td>2021-12-13</td>\n",
       "      <td>172.000000</td>\n",
       "      <td>172.100006</td>\n",
       "      <td>169.130005</td>\n",
       "      <td>169.567505</td>\n",
       "      <td>169.567505</td>\n",
       "      <td>62170000</td>\n",
       "    </tr>\n",
       "    <tr>\n",
       "      <th>6</th>\n",
       "      <td>2021-12-14</td>\n",
       "      <td>167.550003</td>\n",
       "      <td>169.498993</td>\n",
       "      <td>166.440002</td>\n",
       "      <td>169.091507</td>\n",
       "      <td>169.091507</td>\n",
       "      <td>55976000</td>\n",
       "    </tr>\n",
       "    <tr>\n",
       "      <th>7</th>\n",
       "      <td>2021-12-15</td>\n",
       "      <td>168.598007</td>\n",
       "      <td>173.600006</td>\n",
       "      <td>165.195007</td>\n",
       "      <td>173.315002</td>\n",
       "      <td>173.315002</td>\n",
       "      <td>75794000</td>\n",
       "    </tr>\n",
       "    <tr>\n",
       "      <th>8</th>\n",
       "      <td>2021-12-16</td>\n",
       "      <td>173.368500</td>\n",
       "      <td>174.166000</td>\n",
       "      <td>168.160507</td>\n",
       "      <td>168.871002</td>\n",
       "      <td>168.871002</td>\n",
       "      <td>60876000</td>\n",
       "    </tr>\n",
       "  </tbody>\n",
       "</table>\n",
       "</div>"
      ],
      "text/plain": [
       "         Date        Open        High         Low       Close   Adj Close  \\\n",
       "0  2021-12-06  169.649994  173.695496  166.934494  171.368500  171.368500   \n",
       "1  2021-12-07  174.600006  177.499496  173.334503  176.164505  176.164505   \n",
       "2  2021-12-08  176.150497  177.179993  174.750504  176.158005  176.158005   \n",
       "3  2021-12-09  175.750000  176.969498  174.139496  174.171005  174.171005   \n",
       "4  2021-12-10  175.417007  175.927002  170.500000  172.212006  172.212006   \n",
       "5  2021-12-13  172.000000  172.100006  169.130005  169.567505  169.567505   \n",
       "6  2021-12-14  167.550003  169.498993  166.440002  169.091507  169.091507   \n",
       "7  2021-12-15  168.598007  173.600006  165.195007  173.315002  173.315002   \n",
       "8  2021-12-16  173.368500  174.166000  168.160507  168.871002  168.871002   \n",
       "\n",
       "     Volume  \n",
       "0  68860000  \n",
       "1  66410000  \n",
       "2  45254000  \n",
       "3  46062000  \n",
       "4  60690000  \n",
       "5  62170000  \n",
       "6  55976000  \n",
       "7  75794000  \n",
       "8  60876000  "
      ]
     },
     "execution_count": 35,
     "metadata": {},
     "output_type": "execute_result"
    }
   ],
   "source": [
    "data1 = data1.iloc[:9] #get the first 9 rows from the dataframe\n",
    "data1"
   ]
  },
  {
   "cell_type": "code",
   "execution_count": 36,
   "id": "6b2548a6",
   "metadata": {},
   "outputs": [
    {
     "data": {
      "text/plain": [
       "0    171.368500\n",
       "1    176.164505\n",
       "2    176.158005\n",
       "3    174.171005\n",
       "4    172.212006\n",
       "5    169.567505\n",
       "6    169.091507\n",
       "7    173.315002\n",
       "8    168.871002\n",
       "Name: Close, dtype: float64"
      ]
     },
     "execution_count": 36,
     "metadata": {},
     "output_type": "execute_result"
    }
   ],
   "source": [
    "data2 = data1['Close']\n",
    "data2"
   ]
  },
  {
   "cell_type": "code",
   "execution_count": 37,
   "id": "0b40c9b1",
   "metadata": {},
   "outputs": [
    {
     "data": {
      "text/plain": [
       "array([171.3685  , 176.164505, 176.158005, 174.171005, 172.212006,\n",
       "       169.567505, 169.091507, 173.315002, 168.871002])"
      ]
     },
     "execution_count": 37,
     "metadata": {},
     "output_type": "execute_result"
    }
   ],
   "source": [
    "data2 = data2.values\n",
    "data2"
   ]
  },
  {
   "cell_type": "code",
   "execution_count": 38,
   "id": "db65a455",
   "metadata": {},
   "outputs": [],
   "source": [
    "#Applying Feature Scaling To the data of 'Close' column\n",
    "#so that every observation is between 0 and 1\n",
    "from sklearn.preprocessing import MinMaxScaler\n",
    "scaler = MinMaxScaler()"
   ]
  },
  {
   "cell_type": "code",
   "execution_count": 39,
   "id": "364c0dd1",
   "metadata": {},
   "outputs": [
    {
     "data": {
      "text/plain": [
       "array([[171.3685  ],\n",
       "       [176.164505],\n",
       "       [176.158005],\n",
       "       [174.171005],\n",
       "       [172.212006],\n",
       "       [169.567505],\n",
       "       [169.091507],\n",
       "       [173.315002],\n",
       "       [168.871002]])"
      ]
     },
     "execution_count": 39,
     "metadata": {},
     "output_type": "execute_result"
    }
   ],
   "source": [
    "data2res = data2.reshape(-1, 1)\n",
    "data2res"
   ]
  },
  {
   "cell_type": "code",
   "execution_count": 40,
   "id": "4561f6b2",
   "metadata": {},
   "outputs": [
    {
     "data": {
      "text/plain": [
       "array([[0.34242777],\n",
       "       [1.        ],\n",
       "       [0.9991088 ],\n",
       "       [0.72667455],\n",
       "       [0.45807947],\n",
       "       [0.09549636],\n",
       "       [0.03023307],\n",
       "       [0.60930941],\n",
       "       [0.        ]])"
      ]
     },
     "execution_count": 40,
     "metadata": {},
     "output_type": "execute_result"
    }
   ],
   "source": [
    "data3 = scaler.fit_transform(data2res)\n",
    "data3"
   ]
  },
  {
   "cell_type": "code",
   "execution_count": 41,
   "id": "e40260aa",
   "metadata": {},
   "outputs": [],
   "source": [
    "#Specifying The Number Of Timesteps For Our Recurrent Neural Network\n",
    "#We will use 3 timesteps. This means that for every value as a target, \n",
    "#the previous 3 values will be considered as features to determine \n",
    "#the target (i.e. the output).\n"
   ]
  },
  {
   "cell_type": "code",
   "execution_count": 42,
   "id": "6ff72d4a",
   "metadata": {},
   "outputs": [],
   "source": [
    "# data preparation:\n",
    "# this function splits a sequence of numbers into rows of data\n",
    "def split_sequence(sequence, time_steps):\n",
    "\tX, y = list(), list()\n",
    "\tfor i in range(len(sequence)):\n",
    "\t\t# find the end of this pattern\n",
    "\t\tend_ix = i + time_steps\n",
    "\t\t# check if we are beyond the sequence\n",
    "\t\tif end_ix > len(sequence)-1:\n",
    "\t\t\tbreak\n",
    "\t\t# gather input and output parts of the pattern\n",
    "\t\tseq_x, seq_y = sequence[i:end_ix], sequence[end_ix]\n",
    "\t\tX.append(seq_x)\n",
    "\t\ty.append(seq_y)\n",
    "\treturn array(X), array(y)"
   ]
  },
  {
   "cell_type": "code",
   "execution_count": 43,
   "id": "d679e5d5",
   "metadata": {},
   "outputs": [
    {
     "data": {
      "text/plain": [
       "array([0.34242777, 1.        , 0.9991088 , 0.72667455, 0.45807947,\n",
       "       0.09549636, 0.03023307, 0.60930941, 0.        ])"
      ]
     },
     "execution_count": 43,
     "metadata": {},
     "output_type": "execute_result"
    }
   ],
   "source": [
    "#convert the 2D array of data to 1D array\n",
    "data3 = data3.flatten()\n",
    "data3"
   ]
  },
  {
   "cell_type": "code",
   "execution_count": 44,
   "id": "62531716",
   "metadata": {},
   "outputs": [],
   "source": [
    "# split the data into sample rows\n",
    "X, y = split_sequence(data3, 3)"
   ]
  },
  {
   "cell_type": "code",
   "execution_count": 45,
   "id": "1fded86b",
   "metadata": {},
   "outputs": [
    {
     "data": {
      "text/plain": [
       "array([[0.34242777, 1.        , 0.9991088 ],\n",
       "       [1.        , 0.9991088 , 0.72667455],\n",
       "       [0.9991088 , 0.72667455, 0.45807947],\n",
       "       [0.72667455, 0.45807947, 0.09549636],\n",
       "       [0.45807947, 0.09549636, 0.03023307],\n",
       "       [0.09549636, 0.03023307, 0.60930941]])"
      ]
     },
     "execution_count": 45,
     "metadata": {},
     "output_type": "execute_result"
    }
   ],
   "source": [
    "X"
   ]
  },
  {
   "cell_type": "code",
   "execution_count": 46,
   "id": "8d12a53e",
   "metadata": {},
   "outputs": [
    {
     "data": {
      "text/plain": [
       "array([0.72667455, 0.45807947, 0.09549636, 0.03023307, 0.60930941,\n",
       "       0.        ])"
      ]
     },
     "execution_count": 46,
     "metadata": {},
     "output_type": "execute_result"
    }
   ],
   "source": [
    "y"
   ]
  },
  {
   "cell_type": "code",
   "execution_count": 47,
   "id": "acbc6562",
   "metadata": {},
   "outputs": [
    {
     "name": "stdout",
     "output_type": "stream",
     "text": [
      "[0.34242777 1.         0.9991088 ]   0.7266745485674058\n",
      "[1.         0.9991088  0.72667455]   0.4580794715515992\n",
      "[0.9991088  0.72667455 0.45807947]   0.09549636162486053\n",
      "[0.72667455 0.45807947 0.09549636]   0.030233071817477253\n",
      "[0.45807947 0.09549636 0.03023307]   0.6093094086613782\n",
      "[0.09549636 0.03023307 0.60930941]   0.0\n"
     ]
    }
   ],
   "source": [
    "# data summary\n",
    "for i in range(len(X)):\n",
    "\tprint(X[i], ' ', y[i])"
   ]
  },
  {
   "cell_type": "code",
   "execution_count": 48,
   "id": "3392c783",
   "metadata": {},
   "outputs": [],
   "source": [
    "import tensorflow as tf\n",
    "#use these two lines when you use tensorflow models.\n",
    "#This woud avoid several warnings and errors\n",
    "tf.config.run_functions_eagerly(True)\n",
    "tf.data.experimental.enable_debug_mode()"
   ]
  },
  {
   "cell_type": "code",
   "execution_count": 49,
   "id": "9e19c97c",
   "metadata": {},
   "outputs": [],
   "source": [
    "from tensorflow.keras import layers\n",
    "from tensorflow.keras.models import Sequential"
   ]
  },
  {
   "cell_type": "code",
   "execution_count": 50,
   "id": "3a24e4dd",
   "metadata": {},
   "outputs": [],
   "source": [
    "# build an LSTM RNN using a sequential model.\n",
    "\n",
    "model1 = Sequential([\n",
    "    # input_shape=(3, 1) implies 3 feature columns and 1 target column  \n",
    "    layers.InputLayer(input_shape=(3, 1)),\n",
    "    \n",
    "    # 50 LSTM units in the hidden layer, \n",
    "    # relu activation function at each unit\n",
    "    layers.LSTM(50, activation='relu'), #hidden layer\n",
    "    \n",
    "    # 1 Dense unit in the output layer since there is  \n",
    "    # only 1 class of value (i.e. number) in the target column\n",
    "    layers.Dense( 1 ) #output layer\n",
    "])"
   ]
  },
  {
   "cell_type": "code",
   "execution_count": 51,
   "id": "d0df0c3d",
   "metadata": {},
   "outputs": [],
   "source": [
    "# compile the model using adam optimizer, mean_squared_error loss-function \n",
    "model1.compile(optimizer='adam', \n",
    "              loss='mean_squared_error')"
   ]
  },
  {
   "cell_type": "code",
   "execution_count": 52,
   "id": "b1837eca",
   "metadata": {},
   "outputs": [
    {
     "data": {
      "text/plain": [
       "(6, 3, 1)"
      ]
     },
     "execution_count": 52,
     "metadata": {},
     "output_type": "execute_result"
    }
   ],
   "source": [
    "Xrs = X.reshape(X.shape[0], X.shape[1], 1)  # Need to reshape X to 3D (6, 3, 1) for the fit function\n",
    "Xrs.shape"
   ]
  },
  {
   "cell_type": "code",
   "execution_count": 53,
   "id": "95bc50d2",
   "metadata": {},
   "outputs": [
    {
     "data": {
      "text/plain": [
       "<keras.callbacks.History at 0x1e2934c3b50>"
      ]
     },
     "execution_count": 53,
     "metadata": {},
     "output_type": "execute_result"
    }
   ],
   "source": [
    "# fit model\n",
    "model1.fit(Xrs, y, verbose=0, epochs=100)"
   ]
  },
  {
   "cell_type": "code",
   "execution_count": 54,
   "id": "e6385548",
   "metadata": {},
   "outputs": [
    {
     "name": "stdout",
     "output_type": "stream",
     "text": [
      "Test loss: 0.07503414154052734\n"
     ]
    }
   ],
   "source": [
    "score = model1.evaluate(Xrs, y, verbose=0) #finding accuracy of the model\n",
    "print(\"Test loss:\", score)"
   ]
  },
  {
   "cell_type": "code",
   "execution_count": 55,
   "id": "33f3f0cb",
   "metadata": {},
   "outputs": [
    {
     "name": "stdout",
     "output_type": "stream",
     "text": [
      "1/1 [==============================] - 0s 78ms/step\n"
     ]
    },
    {
     "data": {
      "text/plain": [
       "array([[0.3823054 ],\n",
       "       [0.41719046],\n",
       "       [0.35744786],\n",
       "       [0.28078505],\n",
       "       [0.22691883],\n",
       "       [0.22874743]], dtype=float32)"
      ]
     },
     "execution_count": 55,
     "metadata": {},
     "output_type": "execute_result"
    }
   ],
   "source": [
    "predictions = model1.predict(Xrs) #using the same true feature data for prediction of the target values\n",
    "predictions"
   ]
  },
  {
   "cell_type": "code",
   "execution_count": 56,
   "id": "fc7a0324",
   "metadata": {},
   "outputs": [
    {
     "data": {
      "text/plain": [
       "0    0.726675\n",
       "1    0.458079\n",
       "2    0.095496\n",
       "3    0.030233\n",
       "4    0.609309\n",
       "5    0.000000\n",
       "dtype: float64"
      ]
     },
     "execution_count": 56,
     "metadata": {},
     "output_type": "execute_result"
    }
   ],
   "source": [
    "pd.Series(y)  # y has true target values"
   ]
  },
  {
   "cell_type": "code",
   "execution_count": null,
   "id": "6ac34ca3",
   "metadata": {},
   "outputs": [],
   "source": []
  }
 ],
 "metadata": {
  "kernelspec": {
   "display_name": "Python 3 (ipykernel)",
   "language": "python",
   "name": "python3"
  },
  "language_info": {
   "codemirror_mode": {
    "name": "ipython",
    "version": 3
   },
   "file_extension": ".py",
   "mimetype": "text/x-python",
   "name": "python",
   "nbconvert_exporter": "python",
   "pygments_lexer": "ipython3",
   "version": "3.9.12"
  }
 },
 "nbformat": 4,
 "nbformat_minor": 5
}
