{
 "cells": [
  {
   "cell_type": "code",
   "execution_count": 257,
   "id": "39e02009",
   "metadata": {},
   "outputs": [],
   "source": [
    "# Standard scientific Python imports\n",
    "import matplotlib.pyplot as plt\n",
    "import tensorflow as tf\n",
    "import numpy as np\n",
    "from tensorflow import keras\n",
    "from tensorflow.keras import layers\n",
    "from tensorflow.keras.models import Sequential\n",
    "# Import datasets, classifiers and performance metrics\n",
    "from sklearn import datasets, svm, metrics\n"
   ]
  },
  {
   "cell_type": "code",
   "execution_count": 258,
   "id": "9c740695",
   "metadata": {},
   "outputs": [],
   "source": [
    "#load_data\n",
    "data=tf.keras.datasets.mnist.load_data(\n",
    "    path='mnist.npz'\n",
    ")"
   ]
  },
  {
   "cell_type": "code",
   "execution_count": 259,
   "id": "5b9522ce",
   "metadata": {},
   "outputs": [],
   "source": [
    "# Create the classifiers\n",
    "clf = svm.SVC(kernel='linear', C = 1)"
   ]
  },
  {
   "cell_type": "code",
   "execution_count": 260,
   "id": "df33b106",
   "metadata": {},
   "outputs": [
    {
     "name": "stdout",
     "output_type": "stream",
     "text": [
      "x_train Shape:  (60000, 28, 28)\n",
      "x_test Shape:  (10000, 28, 28)\n",
      "y_train Shape:  (60000,)\n",
      "y_test Shape:  (10000,)\n"
     ]
    }
   ],
   "source": [
    "#Split dataset into Train and Test\n",
    "(x_train, y_train), (x_test, y_test) = data\n",
    "print(\"x_train Shape: \",x_train.shape)\n",
    "print(\"x_test Shape: \",x_test.shape)\n",
    "print(\"y_train Shape: \",y_train.shape)\n",
    "print(\"y_test Shape: \",y_test.shape)"
   ]
  },
  {
   "cell_type": "code",
   "execution_count": 261,
   "id": "63a82438",
   "metadata": {},
   "outputs": [
    {
     "name": "stdout",
     "output_type": "stream",
     "text": [
      "x_train:  (60000, 784)\n",
      "x_test:  (10000, 784)\n"
     ]
    }
   ],
   "source": [
    "#reshape \n",
    "x_train = x_train.reshape(60000, 784)\n",
    "x_test = x_test.reshape(10000, 784)\n",
    "print(\"x_train: \",x_train.shape)\n",
    "print(\"x_test: \",x_test.shape)"
   ]
  },
  {
   "cell_type": "code",
   "execution_count": 262,
   "id": "724fad72",
   "metadata": {},
   "outputs": [],
   "source": [
    "#take the first 60 rows\n",
    "x_train = x_train[:60,:]\n",
    "#take the first 10 rows\n",
    "x_test = x_test[:10,:]"
   ]
  },
  {
   "cell_type": "code",
   "execution_count": 263,
   "id": "b555a911",
   "metadata": {},
   "outputs": [
    {
     "name": "stdout",
     "output_type": "stream",
     "text": [
      "(60, 784)\n",
      "(10, 784)\n"
     ]
    }
   ],
   "source": [
    "print(x_train.shape)\n",
    "print(x_test.shape)"
   ]
  },
  {
   "cell_type": "code",
   "execution_count": 264,
   "id": "7a62ca7e",
   "metadata": {},
   "outputs": [],
   "source": [
    "y_train = y_train[:60]\n",
    "y_test=y_test[:10]"
   ]
  },
  {
   "cell_type": "code",
   "execution_count": 265,
   "id": "7be5f2a9",
   "metadata": {},
   "outputs": [
    {
     "data": {
      "text/plain": [
       "SVC(C=1, kernel='linear')"
      ]
     },
     "execution_count": 265,
     "metadata": {},
     "output_type": "execute_result"
    }
   ],
   "source": [
    "#Train the model using SVM\n",
    "clf.fit(x_train, y_train)"
   ]
  },
  {
   "cell_type": "code",
   "execution_count": 266,
   "id": "35cc3648",
   "metadata": {},
   "outputs": [
    {
     "name": "stdout",
     "output_type": "stream",
     "text": [
      "Prediction using SVM:  [7 3 1 0 7 1 9 9 5 9]\n"
     ]
    }
   ],
   "source": [
    "#Predicting Accuracy for SVM \n",
    "svm_pred = clf.predict(x_test)\n",
    "print(\"Prediction using SVM: \",svm_pred)"
   ]
  },
  {
   "cell_type": "code",
   "execution_count": 267,
   "id": "ddcc4a5f",
   "metadata": {},
   "outputs": [],
   "source": [
    "#This woud avoid several warnings and errors\n",
    "tf.config.run_functions_eagerly(True)\n",
    "tf.data.experimental.enable_debug_mode()"
   ]
  },
  {
   "cell_type": "code",
   "execution_count": 268,
   "id": "d1bd6652",
   "metadata": {},
   "outputs": [],
   "source": [
    "model1 = Sequential([\n",
    "    #model expects rows of feature data with shape input_shape \n",
    "    layers.InputLayer(input_shape=(28, 28, 1)),   \n",
    "    layers.Conv2D(64, 3, padding='same', activation='relu'),  #hidden layer\n",
    "    layers.MaxPooling2D(pool_size=(2,2)),\n",
    "    \n",
    "    layers.Conv2D(64, 3, padding='same', activation='relu'),  #hidden layer\n",
    "    layers.MaxPooling2D(pool_size=(2,2)),\n",
    "    \n",
    "    layers.Flatten(), #create array of pixels of single dimension since Dense takes 1D input\n",
    "    \n",
    "    layers.Dense(64, activation='relu'),  #hidden layer\n",
    "    layers.Dense(10, activation='softmax'),\n",
    "    \n",
    "])"
   ]
  },
  {
   "cell_type": "code",
   "execution_count": 269,
   "id": "b71e70a0",
   "metadata": {},
   "outputs": [
    {
     "name": "stdout",
     "output_type": "stream",
     "text": [
      "Model: \"sequential_16\"\n",
      "_________________________________________________________________\n",
      " Layer (type)                Output Shape              Param #   \n",
      "=================================================================\n",
      " conv2d_34 (Conv2D)          (None, 28, 28, 64)        640       \n",
      "                                                                 \n",
      " max_pooling2d_34 (MaxPoolin  (None, 14, 14, 64)       0         \n",
      " g2D)                                                            \n",
      "                                                                 \n",
      " conv2d_35 (Conv2D)          (None, 14, 14, 64)        36928     \n",
      "                                                                 \n",
      " max_pooling2d_35 (MaxPoolin  (None, 7, 7, 64)         0         \n",
      " g2D)                                                            \n",
      "                                                                 \n",
      " flatten_17 (Flatten)        (None, 3136)              0         \n",
      "                                                                 \n",
      " dense_32 (Dense)            (None, 64)                200768    \n",
      "                                                                 \n",
      " dense_33 (Dense)            (None, 10)                650       \n",
      "                                                                 \n",
      "=================================================================\n",
      "Total params: 238,986\n",
      "Trainable params: 238,986\n",
      "Non-trainable params: 0\n",
      "_________________________________________________________________\n"
     ]
    }
   ],
   "source": [
    "# Print the model summary\n",
    "model1.summary()"
   ]
  },
  {
   "cell_type": "code",
   "execution_count": 270,
   "id": "771f8102",
   "metadata": {},
   "outputs": [],
   "source": [
    " model1.compile(optimizer='adam', loss='sparse_categorical_crossentropy', metrics=['accuracy'])"
   ]
  },
  {
   "cell_type": "code",
   "execution_count": 271,
   "id": "cd0fd38e",
   "metadata": {},
   "outputs": [
    {
     "name": "stdout",
     "output_type": "stream",
     "text": [
      "(60, 28, 28, 1)\n",
      "(10, 28, 28, 1)\n"
     ]
    }
   ],
   "source": [
    "x_train = x_train.reshape(-1, 28,28, 1)\n",
    "x_test = x_test.reshape(-1, 28,28, 1)\n",
    "print(x_train.shape)\n",
    "print(x_test.shape)"
   ]
  },
  {
   "cell_type": "code",
   "execution_count": 272,
   "id": "d32caadd",
   "metadata": {},
   "outputs": [
    {
     "name": "stdout",
     "output_type": "stream",
     "text": [
      "\n",
      "MODEL TRAINING:\n",
      "Epoch 1/10\n",
      "1/1 [==============================] - 0s 223ms/step - loss: 29.7941 - accuracy: 0.0667\n",
      "Epoch 2/10\n",
      "1/1 [==============================] - 0s 228ms/step - loss: 19.9883 - accuracy: 0.2333\n",
      "Epoch 3/10\n",
      "1/1 [==============================] - 0s 220ms/step - loss: 12.7227 - accuracy: 0.2667\n",
      "Epoch 4/10\n",
      "1/1 [==============================] - 0s 216ms/step - loss: 9.8629 - accuracy: 0.3833\n",
      "Epoch 5/10\n",
      "1/1 [==============================] - 0s 232ms/step - loss: 8.2749 - accuracy: 0.5000\n",
      "Epoch 6/10\n",
      "1/1 [==============================] - 0s 200ms/step - loss: 6.1254 - accuracy: 0.5333\n",
      "Epoch 7/10\n",
      "1/1 [==============================] - 0s 201ms/step - loss: 3.1932 - accuracy: 0.6667\n",
      "Epoch 8/10\n",
      "1/1 [==============================] - 0s 216ms/step - loss: 1.8489 - accuracy: 0.7000\n",
      "Epoch 9/10\n",
      "1/1 [==============================] - 0s 238ms/step - loss: 1.0370 - accuracy: 0.7167\n",
      "Epoch 10/10\n",
      "1/1 [==============================] - 0s 231ms/step - loss: 0.7774 - accuracy: 0.7667\n"
     ]
    },
    {
     "data": {
      "text/plain": [
       "<keras.callbacks.History at 0x1a8654fb1c0>"
      ]
     },
     "execution_count": 272,
     "metadata": {},
     "output_type": "execute_result"
    }
   ],
   "source": [
    "# Train the model\n",
    "print(f'\\nMODEL TRAINING:')\n",
    "model1.fit(x_train, y_train,batch_size=64, epochs=10)"
   ]
  },
  {
   "cell_type": "code",
   "execution_count": 273,
   "id": "7ff062e5",
   "metadata": {},
   "outputs": [
    {
     "name": "stdout",
     "output_type": "stream",
     "text": [
      "1/1 [==============================] - 0s 68ms/step - loss: 3.2008 - accuracy: 0.4000\n",
      "Test loss 3.200766086578369\n",
      "Accuracy of model using SVM: 0.7\n",
      "Accuracy of model using CNN 0.4000000059604645\n"
     ]
    }
   ],
   "source": [
    "test_loss, test_acc = model1.evaluate(x_test, y_test)\n",
    "print('Test loss', test_loss)\n",
    "\n",
    "print(\"Accuracy of model using SVM:\",metrics.accuracy_score(y_test, svm_pred))\n",
    "print('Accuracy of model using CNN', test_acc)"
   ]
  }
 ],
 "metadata": {
  "kernelspec": {
   "display_name": "Python 3 (ipykernel)",
   "language": "python",
   "name": "python3"
  },
  "language_info": {
   "codemirror_mode": {
    "name": "ipython",
    "version": 3
   },
   "file_extension": ".py",
   "mimetype": "text/x-python",
   "name": "python",
   "nbconvert_exporter": "python",
   "pygments_lexer": "ipython3",
   "version": "3.9.12"
  }
 },
 "nbformat": 4,
 "nbformat_minor": 5
}
