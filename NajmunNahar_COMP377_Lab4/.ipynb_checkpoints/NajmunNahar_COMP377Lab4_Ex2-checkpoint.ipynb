{
 "cells": [
  {
   "cell_type": "code",
   "execution_count": 289,
   "id": "8350883f",
   "metadata": {},
   "outputs": [],
   "source": [
    "# Standard scientific Python imports\n",
    "import matplotlib.pyplot as plt\n",
    "import tensorflow as tf\n",
    "import numpy as np\n",
    "from tensorflow import keras\n",
    "from tensorflow.keras import layers\n",
    "from tensorflow.keras.models import Sequential\n",
    "from keras.layers import Dense, Activation, Flatten, Conv2D, MaxPooling2D\n",
    "# Import datasets, classifiers and performance metrics\n",
    "from sklearn import datasets, svm, metrics"
   ]
  },
  {
   "cell_type": "code",
   "execution_count": 290,
   "id": "6f47763e",
   "metadata": {},
   "outputs": [],
   "source": [
    "#load_data\n",
    "data=tf.keras.datasets.cifar10.load_data()\n"
   ]
  },
  {
   "cell_type": "code",
   "execution_count": 291,
   "id": "faa32b98",
   "metadata": {},
   "outputs": [
    {
     "name": "stdout",
     "output_type": "stream",
     "text": [
      "x_train Shape:  (50000, 32, 32, 3)\n",
      "x_test Shape:  (10000, 32, 32, 3)\n",
      "y_train Shape:  (50000, 1)\n",
      "y_test Shape:  (10000, 1)\n"
     ]
    }
   ],
   "source": [
    "#Split dataset into Train and Test\n",
    "(x_train, y_train), (x_test, y_test) = data\n",
    "print(\"x_train Shape: \",x_train.shape)\n",
    "print(\"x_test Shape: \",x_test.shape)\n",
    "print(\"y_train Shape: \",y_train.shape)\n",
    "print(\"y_test Shape: \",y_test.shape)"
   ]
  },
  {
   "cell_type": "code",
   "execution_count": 292,
   "id": "4089f3d9",
   "metadata": {},
   "outputs": [],
   "source": [
    "#take the first 60 rows\n",
    "x_train = x_train[:50,:]\n",
    "#take the first 10 rows\n",
    "x_test = x_test[:10,:]"
   ]
  },
  {
   "cell_type": "code",
   "execution_count": 293,
   "id": "ca7a2ce3",
   "metadata": {},
   "outputs": [
    {
     "name": "stdout",
     "output_type": "stream",
     "text": [
      "(50, 32, 32, 3)\n",
      "(10, 32, 32, 3)\n"
     ]
    }
   ],
   "source": [
    "print(x_train.shape)\n",
    "print(x_test.shape)"
   ]
  },
  {
   "cell_type": "code",
   "execution_count": 294,
   "id": "ea9ebe3a",
   "metadata": {},
   "outputs": [],
   "source": [
    "y_train = y_train[:50]\n",
    "y_test=y_test[:10]"
   ]
  },
  {
   "cell_type": "code",
   "execution_count": 295,
   "id": "f169820c",
   "metadata": {},
   "outputs": [],
   "source": [
    "#This would avoid several warnings and errors\n",
    "tf.config.run_functions_eagerly(True)\n",
    "tf.data.experimental.enable_debug_mode()"
   ]
  },
  {
   "cell_type": "code",
   "execution_count": 296,
   "id": "2df8a69f",
   "metadata": {},
   "outputs": [],
   "source": [
    "model = Sequential([\n",
    "    #model expects rows of feature data with shape input_shape \n",
    "    layers.InputLayer(input_shape=(32, 32, 3)),   \n",
    "    layers.Conv2D(64, 3, padding='same', activation='relu'),  #hidden layer\n",
    "    layers.MaxPooling2D(pool_size=(2,2)),\n",
    "    \n",
    "    layers.Conv2D(64, 3, padding='same', activation='relu'),  #hidden layer\n",
    "    layers.MaxPooling2D(pool_size=(2,2)),\n",
    "    \n",
    "    layers.Flatten(), #create array of pixels of single dimension since Dense takes 1D input\n",
    "    \n",
    "    layers.Dense(64, activation='relu'),  #hidden layer\n",
    "    layers.Dense(10, activation='softmax'),\n",
    "    \n",
    "])"
   ]
  },
  {
   "cell_type": "code",
   "execution_count": null,
   "id": "5946ad2b",
   "metadata": {},
   "outputs": [],
   "source": []
  },
  {
   "cell_type": "code",
   "execution_count": 297,
   "id": "2925aca9",
   "metadata": {},
   "outputs": [
    {
     "name": "stdout",
     "output_type": "stream",
     "text": [
      "Model: \"sequential_22\"\n",
      "_________________________________________________________________\n",
      " Layer (type)                Output Shape              Param #   \n",
      "=================================================================\n",
      " conv2d_43 (Conv2D)          (None, 32, 32, 64)        1792      \n",
      "                                                                 \n",
      " max_pooling2d_41 (MaxPoolin  (None, 16, 16, 64)       0         \n",
      " g2D)                                                            \n",
      "                                                                 \n",
      " conv2d_44 (Conv2D)          (None, 16, 16, 64)        36928     \n",
      "                                                                 \n",
      " max_pooling2d_42 (MaxPoolin  (None, 8, 8, 64)         0         \n",
      " g2D)                                                            \n",
      "                                                                 \n",
      " flatten_21 (Flatten)        (None, 4096)              0         \n",
      "                                                                 \n",
      " dense_42 (Dense)            (None, 64)                262208    \n",
      "                                                                 \n",
      " dense_43 (Dense)            (None, 10)                650       \n",
      "                                                                 \n",
      "=================================================================\n",
      "Total params: 301,578\n",
      "Trainable params: 301,578\n",
      "Non-trainable params: 0\n",
      "_________________________________________________________________\n"
     ]
    }
   ],
   "source": [
    "model.summary()"
   ]
  },
  {
   "cell_type": "code",
   "execution_count": 298,
   "id": "048fbb6e",
   "metadata": {},
   "outputs": [],
   "source": [
    "model.compile(optimizer='adam', loss='sparse_categorical_crossentropy', metrics=['accuracy'])"
   ]
  },
  {
   "cell_type": "code",
   "execution_count": 299,
   "id": "3c12073b",
   "metadata": {},
   "outputs": [
    {
     "name": "stdout",
     "output_type": "stream",
     "text": [
      "\n",
      "MODEL TRAINING:\n",
      "Epoch 1/10\n",
      "1/1 [==============================] - 0s 270ms/step - loss: 21.2771 - accuracy: 0.0800\n",
      "Epoch 2/10\n",
      "1/1 [==============================] - 0s 252ms/step - loss: 62.1929 - accuracy: 0.1000\n",
      "Epoch 3/10\n",
      "1/1 [==============================] - 0s 247ms/step - loss: 24.4222 - accuracy: 0.1800\n",
      "Epoch 4/10\n",
      "1/1 [==============================] - 0s 279ms/step - loss: 40.5548 - accuracy: 0.0800\n",
      "Epoch 5/10\n",
      "1/1 [==============================] - 0s 270ms/step - loss: 25.6560 - accuracy: 0.1600\n",
      "Epoch 6/10\n",
      "1/1 [==============================] - 0s 254ms/step - loss: 15.5597 - accuracy: 0.3000\n",
      "Epoch 7/10\n",
      "1/1 [==============================] - 0s 254ms/step - loss: 12.6927 - accuracy: 0.3000\n",
      "Epoch 8/10\n",
      "1/1 [==============================] - 0s 248ms/step - loss: 9.1346 - accuracy: 0.2200\n",
      "Epoch 9/10\n",
      "1/1 [==============================] - 0s 254ms/step - loss: 6.1980 - accuracy: 0.1600\n",
      "Epoch 10/10\n",
      "1/1 [==============================] - 0s 285ms/step - loss: 3.8800 - accuracy: 0.3000\n"
     ]
    },
    {
     "data": {
      "text/plain": [
       "<keras.callbacks.History at 0x22b13551b80>"
      ]
     },
     "execution_count": 299,
     "metadata": {},
     "output_type": "execute_result"
    }
   ],
   "source": [
    "# Train the model\n",
    "print(f'\\nMODEL TRAINING:')\n",
    "model.fit(x_train, y_train,batch_size=64, epochs=10)"
   ]
  },
  {
   "cell_type": "code",
   "execution_count": 300,
   "id": "39ff69eb",
   "metadata": {},
   "outputs": [
    {
     "name": "stdout",
     "output_type": "stream",
     "text": [
      "1/1 [==============================] - 0s 63ms/step\n",
      "2\n"
     ]
    }
   ],
   "source": [
    "predictions = model.predict(x_test)\n",
    "print(np.argmax(np.round(predictions[0])))"
   ]
  },
  {
   "cell_type": "code",
   "execution_count": 301,
   "id": "13453800",
   "metadata": {},
   "outputs": [
    {
     "data": {
      "image/png": "[encoded data removed]",
      "text/plain": [
       "<Figure size 432x288 with 1 Axes>"
      ]
     },
     "metadata": {
      "needs_background": "light"
     },
     "output_type": "display_data"
    }
   ],
   "source": [
    "import matplotlib.pyplot as plt\n",
    "plt.imshow(x_test[0], cmap = plt.cm.binary)\n",
    "plt.show()"
   ]
  },
  {
   "cell_type": "code",
   "execution_count": 302,
   "id": "da012fda",
   "metadata": {},
   "outputs": [
    {
     "name": "stdout",
     "output_type": "stream",
     "text": [
      "1/1 [==============================] - 0s 69ms/step - loss: 8.6830 - accuracy: 0.0000e+00\n",
      "Test loss 8.68303394317627\n",
      "Accuracy of model using CNN 0.0\n"
     ]
    }
   ],
   "source": [
    "test_loss, test_acc = model.evaluate(x_test, y_test,verbose=1)\n",
    "print('Test loss', test_loss)\n",
    "print('Accuracy of model using CNN', test_acc)"
   ]
  }
 ],
 "metadata": {
  "kernelspec": {
   "display_name": "Python 3 (ipykernel)",
   "language": "python",
   "name": "python3"
  },
  "language_info": {
   "codemirror_mode": {
    "name": "ipython",
    "version": 3
   },
   "file_extension": ".py",
   "mimetype": "text/x-python",
   "name": "python",
   "nbconvert_exporter": "python",
   "pygments_lexer": "ipython3",
   "version": "3.9.12"
  }
 },
 "nbformat": 4,
 "nbformat_minor": 5
}
