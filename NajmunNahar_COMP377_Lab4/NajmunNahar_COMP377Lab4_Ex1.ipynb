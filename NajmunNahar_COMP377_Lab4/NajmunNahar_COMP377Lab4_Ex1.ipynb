{
 "cells": [
  {
   "cell_type": "code",
   "execution_count": 352,
   "id": "c8a4788b",
   "metadata": {},
   "outputs": [],
   "source": [
    "# Standard scientific Python imports\n",
    "import matplotlib.pyplot as plt\n",
    "import tensorflow as tf\n",
    "import numpy as np\n",
    "from tensorflow import keras\n",
    "from tensorflow.keras import layers\n",
    "from tensorflow.keras.models import Sequential\n",
    "# Import datasets, classifiers and performance metrics\n",
    "from sklearn import datasets, svm, metrics\n"
   ]
  },
  {
   "cell_type": "code",
   "execution_count": 353,
   "id": "5e218e83",
   "metadata": {},
   "outputs": [],
   "source": [
    "#load_data\n",
    "data=tf.keras.datasets.mnist.load_data(\n",
    "    path='mnist.npz'\n",
    ")"
   ]
  },
  {
   "cell_type": "code",
   "execution_count": 354,
   "id": "3b563079",
   "metadata": {},
   "outputs": [],
   "source": [
    "# Create the classifiers\n",
    "clf = svm.SVC(kernel='linear', C = 1)"
   ]
  },
  {
   "cell_type": "code",
   "execution_count": 355,
   "id": "eee6d95c",
   "metadata": {},
   "outputs": [
    {
     "name": "stdout",
     "output_type": "stream",
     "text": [
      "x_train Shape:  (60000, 28, 28)\n",
      "x_test Shape:  (10000, 28, 28)\n",
      "y_train Shape:  (60000,)\n",
      "y_test Shape:  (10000,)\n"
     ]
    }
   ],
   "source": [
    "#Split dataset into Train and Test\n",
    "(x_train, y_train), (x_test, y_test) = data\n",
    "print(\"x_train Shape: \",x_train.shape)\n",
    "print(\"x_test Shape: \",x_test.shape)\n",
    "print(\"y_train Shape: \",y_train.shape)\n",
    "print(\"y_test Shape: \",y_test.shape)"
   ]
  },
  {
   "cell_type": "code",
   "execution_count": 356,
   "id": "cb2e4162",
   "metadata": {},
   "outputs": [
    {
     "name": "stdout",
     "output_type": "stream",
     "text": [
      "x_train:  (60000, 784)\n",
      "x_test:  (10000, 784)\n"
     ]
    }
   ],
   "source": [
    "#reshape \n",
    "x_train = x_train.reshape(60000, 784)\n",
    "x_test = x_test.reshape(10000, 784)\n",
    "print(\"x_train: \",x_train.shape)\n",
    "print(\"x_test: \",x_test.shape)"
   ]
  },
  {
   "cell_type": "code",
   "execution_count": 357,
   "id": "a4aa17e5",
   "metadata": {},
   "outputs": [],
   "source": [
    "#take the first 60 rows\n",
    "x_train = x_train[:60,:]\n",
    "#take the first 10 rows\n",
    "x_test = x_test[:10,:]"
   ]
  },
  {
   "cell_type": "code",
   "execution_count": 358,
   "id": "363bcc96",
   "metadata": {},
   "outputs": [
    {
     "name": "stdout",
     "output_type": "stream",
     "text": [
      "(60, 784)\n",
      "(10, 784)\n"
     ]
    }
   ],
   "source": [
    "print(x_train.shape)\n",
    "print(x_test.shape)"
   ]
  },
  {
   "cell_type": "code",
   "execution_count": 359,
   "id": "ee9a4391",
   "metadata": {},
   "outputs": [],
   "source": [
    "y_train = y_train[:60]\n",
    "y_test=y_test[:10]"
   ]
  },
  {
   "cell_type": "code",
   "execution_count": 360,
   "id": "55da8a30",
   "metadata": {},
   "outputs": [
    {
     "data": {
      "text/plain": [
       "SVC(C=1, kernel='linear')"
      ]
     },
     "execution_count": 360,
     "metadata": {},
     "output_type": "execute_result"
    }
   ],
   "source": [
    "#Train the model using SVM\n",
    "clf.fit(x_train, y_train)"
   ]
  },
  {
   "cell_type": "code",
   "execution_count": 361,
   "id": "ea3f91dd",
   "metadata": {},
   "outputs": [
    {
     "name": "stdout",
     "output_type": "stream",
     "text": [
      "Prediction using SVM:  [7 3 1 0 7 1 9 9 5 9]\n"
     ]
    }
   ],
   "source": [
    "#Predicting Accuracy for SVM \n",
    "svm_pred = clf.predict(x_test)\n",
    "print(\"Prediction using SVM: \",svm_pred)"
   ]
  },
  {
   "cell_type": "code",
   "execution_count": 362,
   "id": "3e9eaca4",
   "metadata": {},
   "outputs": [],
   "source": [
    "#This would avoid several warnings and errors\n",
    "tf.config.run_functions_eagerly(True)\n",
    "tf.data.experimental.enable_debug_mode()"
   ]
  },
  {
   "cell_type": "code",
   "execution_count": 363,
   "id": "10a0c5c9",
   "metadata": {},
   "outputs": [],
   "source": [
    "model = Sequential([\n",
    "    #model expects rows of feature data with shape input_shape \n",
    "    layers.InputLayer(input_shape=(28, 28, 1)),   \n",
    "    layers.Conv2D(64, 3, padding='same', activation='relu'),  #hidden layer\n",
    "    layers.MaxPooling2D(pool_size=(2,2)),\n",
    "    \n",
    "    layers.Conv2D(64, 3, padding='same', activation='relu'),  #hidden layer\n",
    "    layers.MaxPooling2D(pool_size=(2,2)),\n",
    "    \n",
    "    layers.Flatten(), #create array of pixels of single dimension since Dense takes 1D input\n",
    "    \n",
    "    layers.Dense(64, activation='relu'),  #hidden layer\n",
    "    layers.Dense(10, activation='softmax'),\n",
    "    \n",
    "])"
   ]
  },
  {
   "cell_type": "code",
   "execution_count": 364,
   "id": "4ad00483",
   "metadata": {},
   "outputs": [
    {
     "name": "stdout",
     "output_type": "stream",
     "text": [
      "Model: \"sequential_21\"\n",
      "_________________________________________________________________\n",
      " Layer (type)                Output Shape              Param #   \n",
      "=================================================================\n",
      " conv2d_42 (Conv2D)          (None, 28, 28, 64)        640       \n",
      "                                                                 \n",
      " max_pooling2d_42 (MaxPoolin  (None, 14, 14, 64)       0         \n",
      " g2D)                                                            \n",
      "                                                                 \n",
      " conv2d_43 (Conv2D)          (None, 14, 14, 64)        36928     \n",
      "                                                                 \n",
      " max_pooling2d_43 (MaxPoolin  (None, 7, 7, 64)         0         \n",
      " g2D)                                                            \n",
      "                                                                 \n",
      " flatten_21 (Flatten)        (None, 3136)              0         \n",
      "                                                                 \n",
      " dense_40 (Dense)            (None, 64)                200768    \n",
      "                                                                 \n",
      " dense_41 (Dense)            (None, 10)                650       \n",
      "                                                                 \n",
      "=================================================================\n",
      "Total params: 238,986\n",
      "Trainable params: 238,986\n",
      "Non-trainable params: 0\n",
      "_________________________________________________________________\n"
     ]
    }
   ],
   "source": [
    "# Print the model summary\n",
    "model.summary()"
   ]
  },
  {
   "cell_type": "code",
   "execution_count": 365,
   "id": "95bfa8b7",
   "metadata": {},
   "outputs": [],
   "source": [
    " model.compile(optimizer='adam', loss='sparse_categorical_crossentropy', metrics=['accuracy'])"
   ]
  },
  {
   "cell_type": "code",
   "execution_count": 366,
   "id": "77959949",
   "metadata": {},
   "outputs": [
    {
     "name": "stdout",
     "output_type": "stream",
     "text": [
      "(60, 28, 28, 1)\n",
      "(10, 28, 28, 1)\n"
     ]
    }
   ],
   "source": [
    "x_train = x_train.reshape(-1, 28,28, 1)\n",
    "x_test = x_test.reshape(-1, 28,28, 1)\n",
    "print(x_train.shape)\n",
    "print(x_test.shape)"
   ]
  },
  {
   "cell_type": "code",
   "execution_count": 367,
   "id": "1d4e7783",
   "metadata": {},
   "outputs": [
    {
     "name": "stdout",
     "output_type": "stream",
     "text": [
      "\n",
      "MODEL TRAINING:\n",
      "Epoch 1/10\n",
      "1/1 [==============================] - 0s 370ms/step - loss: 39.0556 - accuracy: 0.0833\n",
      "Epoch 2/10\n",
      "1/1 [==============================] - 0s 270ms/step - loss: 22.4173 - accuracy: 0.1333\n",
      "Epoch 3/10\n",
      "1/1 [==============================] - 0s 321ms/step - loss: 17.4255 - accuracy: 0.2333\n",
      "Epoch 4/10\n",
      "1/1 [==============================] - 0s 304ms/step - loss: 16.0054 - accuracy: 0.3000\n",
      "Epoch 5/10\n",
      "1/1 [==============================] - 0s 294ms/step - loss: 11.3579 - accuracy: 0.4833\n",
      "Epoch 6/10\n",
      "1/1 [==============================] - 0s 364ms/step - loss: 8.8853 - accuracy: 0.5000\n",
      "Epoch 7/10\n",
      "1/1 [==============================] - 0s 285ms/step - loss: 7.5949 - accuracy: 0.5333\n",
      "Epoch 8/10\n",
      "1/1 [==============================] - 0s 279ms/step - loss: 5.9875 - accuracy: 0.6500\n",
      "Epoch 9/10\n",
      "1/1 [==============================] - 0s 295ms/step - loss: 4.4767 - accuracy: 0.7500\n",
      "Epoch 10/10\n",
      "1/1 [==============================] - 0s 250ms/step - loss: 3.5008 - accuracy: 0.7667\n"
     ]
    },
    {
     "data": {
      "text/plain": [
       "<keras.callbacks.History at 0x1a868db9e50>"
      ]
     },
     "execution_count": 367,
     "metadata": {},
     "output_type": "execute_result"
    }
   ],
   "source": [
    "# Train the model\n",
    "print(f'\\nMODEL TRAINING:')\n",
    "model.fit(x_train, y_train,batch_size=64, epochs=10)"
   ]
  },
  {
   "cell_type": "code",
   "execution_count": 368,
   "id": "d7ce6176",
   "metadata": {},
   "outputs": [
    {
     "name": "stdout",
     "output_type": "stream",
     "text": [
      "1/1 [==============================] - 0s 67ms/step\n",
      "7\n"
     ]
    }
   ],
   "source": [
    "predictions = model.predict(x_test)\n",
    "print(np.argmax(np.round(predictions[0])))"
   ]
  },
  {
   "cell_type": "code",
   "execution_count": 369,
   "id": "c5d73dc5",
   "metadata": {},
   "outputs": [
    {
     "data": {
      "image/png": "[encoded data removed]",
      "text/plain": [
       "<Figure size 432x288 with 1 Axes>"
      ]
     },
     "metadata": {
      "needs_background": "light"
     },
     "output_type": "display_data"
    }
   ],
   "source": [
    "import matplotlib.pyplot as plt\n",
    "plt.imshow(x_test[0].reshape(28, 28), cmap = plt.cm.binary)\n",
    "plt.show()"
   ]
  },
  {
   "cell_type": "code",
   "execution_count": 370,
   "id": "91d139ee",
   "metadata": {},
   "outputs": [
    {
     "name": "stdout",
     "output_type": "stream",
     "text": [
      "1/1 [==============================] - 0s 71ms/step - loss: 3.9851 - accuracy: 0.6000\n",
      "Test loss 3.985121250152588\n",
      "Accuracy of model using SVM: 0.7\n",
      "Accuracy of model using CNN 0.6000000238418579\n"
     ]
    }
   ],
   "source": [
    "test_loss, test_acc = model.evaluate(x_test, y_test)\n",
    "print('Test loss', test_loss)\n",
    "print(\"Accuracy of model using SVM:\",metrics.accuracy_score(y_test, svm_pred))\n",
    "print('Accuracy of model using CNN', test_acc)"
   ]
  }
 ],
 "metadata": {
  "kernelspec": {
   "display_name": "Python 3 (ipykernel)",
   "language": "python",
   "name": "python3"
  },
  "language_info": {
   "codemirror_mode": {
    "name": "ipython",
    "version": 3
   },
   "file_extension": ".py",
   "mimetype": "text/x-python",
   "name": "python",
   "nbconvert_exporter": "python",
   "pygments_lexer": "ipython3",
   "version": "3.9.12"
  }
 },
 "nbformat": 4,
 "nbformat_minor": 5
}
