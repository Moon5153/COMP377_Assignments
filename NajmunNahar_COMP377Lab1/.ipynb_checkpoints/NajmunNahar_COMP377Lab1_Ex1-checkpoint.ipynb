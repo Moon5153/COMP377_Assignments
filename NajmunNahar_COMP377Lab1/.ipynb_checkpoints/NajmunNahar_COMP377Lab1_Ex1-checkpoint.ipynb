{
 "cells": [
  {
   "cell_type": "code",
   "execution_count": 2,
   "id": "529e9fa4",
   "metadata": {},
   "outputs": [],
   "source": [
    "#import libraries\n",
    "import pandas as pd\n",
    "from sklearn.model_selection import train_test_split\n",
    "from sklearn.linear_model import LinearRegression\n",
    "from sklearn.metrics import r2_score"
   ]
  },
  {
   "cell_type": "code",
   "execution_count": 4,
   "id": "33cde059",
   "metadata": {},
   "outputs": [],
   "source": [
    "#import dataset\n",
    "df=pd.read_excel(\"Real estate valuation data set.xlsx\")\n",
    "\n"
   ]
  },
  {
   "cell_type": "code",
   "execution_count": 9,
   "id": "a3a42b29",
   "metadata": {},
   "outputs": [],
   "source": [
    "#seperate the dataset\n",
    "x = df.iloc[:,[2, 3, 4, 5, 6]]\n",
    "y = df[[\"Y house price of unit area\"]]"
   ]
  },
  {
   "cell_type": "code",
   "execution_count": 10,
   "id": "2156e30c",
   "metadata": {},
   "outputs": [],
   "source": [
    "#Train-test split dataset\n",
    "train_x, test_x, train_y, test_y = train_test_split(x, y, test_size=0.3)"
   ]
  },
  {
   "cell_type": "code",
   "execution_count": 11,
   "id": "e5a43e39",
   "metadata": {},
   "outputs": [
    {
     "data": {
      "text/plain": [
       "LinearRegression()"
      ]
     },
     "execution_count": 11,
     "metadata": {},
     "output_type": "execute_result"
    }
   ],
   "source": [
    "#Train the model\n",
    "model=LinearRegression()\n",
    "model.fit(train_x,train_y)"
   ]
  },
  {
   "cell_type": "code",
   "execution_count": 12,
   "id": "cce396c8",
   "metadata": {},
   "outputs": [],
   "source": [
    "#predict\n",
    "predict_y=model.predict(test_x)"
   ]
  },
  {
   "cell_type": "code",
   "execution_count": 14,
   "id": "133360bd",
   "metadata": {},
   "outputs": [
    {
     "name": "stdout",
     "output_type": "stream",
     "text": [
      "R Squared value =  0.46155207540564\n"
     ]
    }
   ],
   "source": [
    "#Calculate (R2)\n",
    "r_squared=r2_score(test_y, predict_y)\n",
    "print(\"R Squared value = \",r_squared)"
   ]
  },
  {
   "cell_type": "code",
   "execution_count": null,
   "id": "d5dd35af",
   "metadata": {},
   "outputs": [],
   "source": []
  }
 ],
 "metadata": {
  "kernelspec": {
   "display_name": "Python 3 (ipykernel)",
   "language": "python",
   "name": "python3"
  },
  "language_info": {
   "codemirror_mode": {
    "name": "ipython",
    "version": 3
   },
   "file_extension": ".py",
   "mimetype": "text/x-python",
   "name": "python",
   "nbconvert_exporter": "python",
   "pygments_lexer": "ipython3",
   "version": "3.9.12"
  }
 },
 "nbformat": 4,
 "nbformat_minor": 5
}
