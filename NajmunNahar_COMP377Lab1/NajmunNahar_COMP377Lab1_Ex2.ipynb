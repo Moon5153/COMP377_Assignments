{
 "cells": [
  {
   "cell_type": "code",
   "execution_count": 1,
   "id": "f86df305",
   "metadata": {},
   "outputs": [],
   "source": [
    "#import libraries\n",
    "import pandas as pd\n",
    "from sklearn.model_selection import train_test_split\n",
    "from sklearn.linear_model import LinearRegression\n",
    "from sklearn.metrics import r2_score\n",
    "from sklearn.datasets import fetch_california_housing\n",
    "from sklearn.preprocessing import PolynomialFeatures"
   ]
  },
  {
   "cell_type": "code",
   "execution_count": 2,
   "id": "1fc0504d",
   "metadata": {},
   "outputs": [],
   "source": [
    "#import dataset and seperate to X and Y\n",
    "X, y = fetch_california_housing(return_X_y=True, as_frame=True)"
   ]
  },
  {
   "cell_type": "code",
   "execution_count": 3,
   "id": "ebf3ca62",
   "metadata": {},
   "outputs": [],
   "source": [
    "#Get AveRooms and AveBedrms\n",
    "X = X[['AveRooms', 'AveBedrms']]"
   ]
  },
  {
   "cell_type": "code",
   "execution_count": 4,
   "id": "6c375d01",
   "metadata": {},
   "outputs": [],
   "source": [
    "#Apply Polunomial Features\n",
    "poly_x = PolynomialFeatures(degree=2, include_bias=False)\n",
    "X = poly_x.fit_transform(X)"
   ]
  },
  {
   "cell_type": "code",
   "execution_count": 5,
   "id": "a398ded5",
   "metadata": {},
   "outputs": [],
   "source": [
    "#Train-test split the dataset\n",
    "train_x, test_x, train_y, test_y = train_test_split(X, y, test_size=0.3)"
   ]
  },
  {
   "cell_type": "code",
   "execution_count": 6,
   "id": "d01f4c02",
   "metadata": {},
   "outputs": [
    {
     "data": {
      "text/plain": [
       "LinearRegression()"
      ]
     },
     "execution_count": 6,
     "metadata": {},
     "output_type": "execute_result"
    }
   ],
   "source": [
    "#Train the model\n",
    "model = LinearRegression()\n",
    "model.fit(train_x, train_y)"
   ]
  },
  {
   "cell_type": "code",
   "execution_count": 7,
   "id": "3d6f830c",
   "metadata": {},
   "outputs": [],
   "source": [
    "#Predict\n",
    "predict_y = model.predict(test_x)"
   ]
  },
  {
   "cell_type": "code",
   "execution_count": 8,
   "id": "b510e709",
   "metadata": {},
   "outputs": [
    {
     "name": "stdout",
     "output_type": "stream",
     "text": [
      "R Squared value =  0.17940724534364216\n"
     ]
    }
   ],
   "source": [
    "#Calculate (R2)\n",
    "r_squared=r2_score(test_y, predict_y)\n",
    "print(\"R Squared value = \",r_squared)"
   ]
  },
  {
   "cell_type": "code",
   "execution_count": null,
   "id": "130fc963",
   "metadata": {},
   "outputs": [],
   "source": []
  }
 ],
 "metadata": {
  "kernelspec": {
   "display_name": "Python 3 (ipykernel)",
   "language": "python",
   "name": "python3"
  },
  "language_info": {
   "codemirror_mode": {
    "name": "ipython",
    "version": 3
   },
   "file_extension": ".py",
   "mimetype": "text/x-python",
   "name": "python",
   "nbconvert_exporter": "python",
   "pygments_lexer": "ipython3",
   "version": "3.9.12"
  }
 },
 "nbformat": 4,
 "nbformat_minor": 5
}
